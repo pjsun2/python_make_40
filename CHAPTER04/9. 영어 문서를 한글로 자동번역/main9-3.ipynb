{
 "cells": [
  {
   "cell_type": "code",
   "execution_count": 1,
<<<<<<< HEAD
   "id": "52f1488b-53a9-4f96-9cd1-cd358449239c",
=======
   "id": "89c72094-6873-4ae7-b5ad-68ea47f3cc8a",
   "metadata": {
    "tags": []
   },
   "outputs": [],
   "source": [
    "from os import linesep"
   ]
  },
  {
   "cell_type": "code",
   "execution_count": 2,
   "id": "61879e6e-1d41-4858-9822-f7fde85af187",
   "metadata": {
    "tags": []
   },
   "outputs": [],
   "source": [
    "import googletrans"
   ]
  },
  {
   "cell_type": "code",
   "execution_count": 3,
   "id": "5fbc04c5-6af9-4be7-94dc-b4dba670a8f2",
   "metadata": {
    "tags": []
   },
   "outputs": [],
   "source": [
    "translator = googletrans.Translator()"
   ]
  },
  {
   "cell_type": "code",
   "execution_count": 4,
   "id": "a695a739-8a34-42fc-a484-ad0798504ba1",
   "metadata": {
    "tags": []
   },
   "outputs": [],
   "source": [
    "read_file_path = r\"C:\\Users\\parkj\\Desktop\\projects\\python_make_40\\CHAPTER04\\9. 영어 문서를 한글로 자동번역\\영어파일.txt\""
   ]
  },
  {
   "cell_type": "code",
   "execution_count": 5,
   "id": "75194a4c-ecf4-4120-b610-01b26b97bd42",
>>>>>>> 78553383c1120ba83f200af3f067f4edfe1e9025
   "metadata": {
    "tags": []
   },
   "outputs": [
    {
<<<<<<< HEAD
     "ename": "FileNotFoundError",
     "evalue": "[Errno 2] No such file or directory: 'C:\\\\Users\\\\parkj\\\\Desktop\\\\projects\\\\python_make_40\\\\CHAPTER04\\\\9. 영어 문서를 한글로 자동번역\\\\영어파일.txt'",
     "output_type": "error",
     "traceback": [
      "\u001b[1;31m---------------------------------------------------------------------------\u001b[0m",
      "\u001b[1;31mFileNotFoundError\u001b[0m                         Traceback (most recent call last)",
      "Cell \u001b[1;32mIn[1], line 5\u001b[0m\n\u001b[0;32m      3\u001b[0m translator \u001b[38;5;241m=\u001b[39m googletrans\u001b[38;5;241m.\u001b[39mTranslator()\n\u001b[0;32m      4\u001b[0m read_file_path \u001b[38;5;241m=\u001b[39m \u001b[38;5;124mr\u001b[39m\u001b[38;5;124m\"\u001b[39m\u001b[38;5;124mC:\u001b[39m\u001b[38;5;124m\\\u001b[39m\u001b[38;5;124mUsers\u001b[39m\u001b[38;5;124m\\\u001b[39m\u001b[38;5;124mparkj\u001b[39m\u001b[38;5;124m\\\u001b[39m\u001b[38;5;124mDesktop\u001b[39m\u001b[38;5;124m\\\u001b[39m\u001b[38;5;124mprojects\u001b[39m\u001b[38;5;124m\\\u001b[39m\u001b[38;5;124mpython_make_40\u001b[39m\u001b[38;5;124m\\\u001b[39m\u001b[38;5;124mCHAPTER04\u001b[39m\u001b[38;5;124m\\\u001b[39m\u001b[38;5;124m9. 영어 문서를 한글로 자동번역\u001b[39m\u001b[38;5;124m\\\u001b[39m\u001b[38;5;124m영어파일.txt\u001b[39m\u001b[38;5;124m\"\u001b[39m\n\u001b[1;32m----> 5\u001b[0m \u001b[38;5;28;01mwith\u001b[39;00m \u001b[38;5;28;43mopen\u001b[39;49m\u001b[43m(\u001b[49m\u001b[43mread_file_path\u001b[49m\u001b[43m,\u001b[49m\u001b[43m \u001b[49m\u001b[38;5;124;43m'\u001b[39;49m\u001b[38;5;124;43mr\u001b[39;49m\u001b[38;5;124;43m'\u001b[39;49m\u001b[43m)\u001b[49m \u001b[38;5;28;01mas\u001b[39;00m f:\n\u001b[0;32m      6\u001b[0m     readLines \u001b[38;5;241m=\u001b[39m f\u001b[38;5;241m.\u001b[39mreadlines()\n\u001b[0;32m      8\u001b[0m \u001b[38;5;28;01mfor\u001b[39;00m lines \u001b[38;5;129;01min\u001b[39;00m readLines:\n",
      "File \u001b[1;32m~\\AppData\\Roaming\\Python\\Python311\\site-packages\\IPython\\core\\interactiveshell.py:284\u001b[0m, in \u001b[0;36m_modified_open\u001b[1;34m(file, *args, **kwargs)\u001b[0m\n\u001b[0;32m    277\u001b[0m \u001b[38;5;28;01mif\u001b[39;00m file \u001b[38;5;129;01min\u001b[39;00m {\u001b[38;5;241m0\u001b[39m, \u001b[38;5;241m1\u001b[39m, \u001b[38;5;241m2\u001b[39m}:\n\u001b[0;32m    278\u001b[0m     \u001b[38;5;28;01mraise\u001b[39;00m \u001b[38;5;167;01mValueError\u001b[39;00m(\n\u001b[0;32m    279\u001b[0m         \u001b[38;5;124mf\u001b[39m\u001b[38;5;124m\"\u001b[39m\u001b[38;5;124mIPython won\u001b[39m\u001b[38;5;124m'\u001b[39m\u001b[38;5;124mt let you open fd=\u001b[39m\u001b[38;5;132;01m{\u001b[39;00mfile\u001b[38;5;132;01m}\u001b[39;00m\u001b[38;5;124m by default \u001b[39m\u001b[38;5;124m\"\u001b[39m\n\u001b[0;32m    280\u001b[0m         \u001b[38;5;124m\"\u001b[39m\u001b[38;5;124mas it is likely to crash IPython. If you know what you are doing, \u001b[39m\u001b[38;5;124m\"\u001b[39m\n\u001b[0;32m    281\u001b[0m         \u001b[38;5;124m\"\u001b[39m\u001b[38;5;124myou can use builtins\u001b[39m\u001b[38;5;124m'\u001b[39m\u001b[38;5;124m open.\u001b[39m\u001b[38;5;124m\"\u001b[39m\n\u001b[0;32m    282\u001b[0m     )\n\u001b[1;32m--> 284\u001b[0m \u001b[38;5;28;01mreturn\u001b[39;00m \u001b[43mio_open\u001b[49m\u001b[43m(\u001b[49m\u001b[43mfile\u001b[49m\u001b[43m,\u001b[49m\u001b[43m \u001b[49m\u001b[38;5;241;43m*\u001b[39;49m\u001b[43margs\u001b[49m\u001b[43m,\u001b[49m\u001b[43m \u001b[49m\u001b[38;5;241;43m*\u001b[39;49m\u001b[38;5;241;43m*\u001b[39;49m\u001b[43mkwargs\u001b[49m\u001b[43m)\u001b[49m\n",
      "\u001b[1;31mFileNotFoundError\u001b[0m: [Errno 2] No such file or directory: 'C:\\\\Users\\\\parkj\\\\Desktop\\\\projects\\\\python_make_40\\\\CHAPTER04\\\\9. 영어 문서를 한글로 자동번역\\\\영어파일.txt'"
=======
     "name": "stdout",
     "output_type": "stream",
     "text": [
      "작은 연못에 큰 물고기\n",
      "좋은 약은 쓴 맛입니다\n",
      "고통이 없으면 얻는 것도 없다\n"
>>>>>>> 78553383c1120ba83f200af3f067f4edfe1e9025
     ]
    }
   ],
   "source": [
<<<<<<< HEAD
    "from os import linesep\n",
    "import googletrans\n",
    "translator = googletrans.Translator()\n",
    "read_file_path = r\"C:\\Users\\parkj\\Desktop\\projects\\python_make_40\\CHAPTER04\\9. 영어 문서를 한글로 자동번역\\영어파일.txt\"\n",
=======
>>>>>>> 78553383c1120ba83f200af3f067f4edfe1e9025
    "with open(read_file_path, 'r') as f:\n",
    "    readLines = f.readlines()\n",
    "    \n",
    "for lines in readLines:\n",
    "    result1 = translator.translate(lines, dest=\"ko\")\n",
    "    print(result1.text)"
   ]
<<<<<<< HEAD
  },
  {
   "cell_type": "code",
   "execution_count": null,
   "id": "85190769-d491-4c8d-ab31-52a2facc320f",
   "metadata": {},
   "outputs": [],
   "source": []
=======
>>>>>>> 78553383c1120ba83f200af3f067f4edfe1e9025
  }
 ],
 "metadata": {
  "kernelspec": {
   "display_name": "Python 3 (ipykernel)",
   "language": "python",
   "name": "python3"
  },
  "language_info": {
   "codemirror_mode": {
    "name": "ipython",
    "version": 3
   },
   "file_extension": ".py",
   "mimetype": "text/x-python",
   "name": "python",
   "nbconvert_exporter": "python",
   "pygments_lexer": "ipython3",
   "version": "3.11.3"
  }
 },
 "nbformat": 4,
 "nbformat_minor": 5
}
