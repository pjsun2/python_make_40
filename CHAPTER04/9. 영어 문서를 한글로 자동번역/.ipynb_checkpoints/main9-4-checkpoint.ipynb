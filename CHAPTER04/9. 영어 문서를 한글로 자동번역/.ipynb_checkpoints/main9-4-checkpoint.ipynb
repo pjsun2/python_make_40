{
 "cells": [
  {
   "cell_type": "code",
   "execution_count": 1,
   "id": "1948bf7d-c1b8-414c-bcee-03182ef81c09",
   "metadata": {
    "tags": []
   },
   "outputs": [],
   "source": [
    "from os import linesep\n",
    "import googletrans"
   ]
  },
  {
   "cell_type": "code",
   "execution_count": 2,
   "id": "661a67af-e04e-4ac1-9857-22de6b35642d",
   "metadata": {
    "tags": []
   },
   "outputs": [],
   "source": [
    "translator = googletrans.Translator()"
   ]
  },
  {
   "cell_type": "code",
   "execution_count": 3,
   "id": "4c0db07a-c36d-48bf-8c99-5bcac510dc07",
   "metadata": {
    "tags": []
   },
   "outputs": [],
   "source": [
    "read_file_path = r\"C:\\Users\\parkj\\Desktop\\projects\\python_make_40\\CHAPTER04\\9. 영어 문서를 한글로 자동번역\\영어파일.txt\"\n",
    "write_file_path = r\"C:\\Users\\parkj\\Desktop\\projects\\python_make_40\\CHAPTER04\\9. 영어 문서를 한글로 자동번역\\한글파일.txt\""
   ]
  },
  {
   "cell_type": "code",
   "execution_count": 5,
   "id": "4144bf96-83fb-4b65-acae-1406d1ee6e54",
   "metadata": {
    "tags": []
   },
   "outputs": [
    {
     "name": "stdout",
     "output_type": "stream",
     "text": [
      "작은 연못에 큰 물고기\n",
      "좋은 약은 쓴 맛입니다\n",
      "고통이 없으면 얻는 것도 없다\n"
     ]
    }
   ],
   "source": [
    "with open(read_file_path, 'r') as f:\n",
    "    readLines = f.readlines()\n",
    "    \n",
    "for lines in readLines:\n",
    "    result1 = translator.translate(lines, dest=\"ko\")\n",
    "    print(result1.text)\n",
    "    with open(write_file_path,'a',encoding='UTF8') as f:\n",
    "        f.write(result1.text + '\\n')"
   ]
  },
  {
   "cell_type": "code",
   "execution_count": null,
   "id": "21546360-3660-4d5e-ac93-48d23e61b0a1",
   "metadata": {},
   "outputs": [],
   "source": []
  }
 ],
 "metadata": {
  "kernelspec": {
   "display_name": "Python 3 (ipykernel)",
   "language": "python",
   "name": "python3"
  },
  "language_info": {
   "codemirror_mode": {
    "name": "ipython",
    "version": 3
   },
   "file_extension": ".py",
   "mimetype": "text/x-python",
   "name": "python",
   "nbconvert_exporter": "python",
   "pygments_lexer": "ipython3",
   "version": "3.11.3"
  }
 },
 "nbformat": 4,
 "nbformat_minor": 5
}
