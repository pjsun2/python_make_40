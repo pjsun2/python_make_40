{
 "cells": [
  {
   "cell_type": "code",
   "execution_count": 1,
   "id": "89c72094-6873-4ae7-b5ad-68ea47f3cc8a",
   "metadata": {
    "tags": []
   },
   "outputs": [],
   "source": [
    "from os import linesep"
   ]
  },
  {
   "cell_type": "code",
   "execution_count": 2,
   "id": "61879e6e-1d41-4858-9822-f7fde85af187",
   "metadata": {
    "tags": []
   },
   "outputs": [],
   "source": [
    "import googletrans"
   ]
  },
  {
   "cell_type": "code",
   "execution_count": 3,
   "id": "5fbc04c5-6af9-4be7-94dc-b4dba670a8f2",
   "metadata": {
    "tags": []
   },
   "outputs": [],
   "source": [
    "translator = googletrans.Translator()"
   ]
  },
  {
   "cell_type": "code",
   "execution_count": 4,
   "id": "a695a739-8a34-42fc-a484-ad0798504ba1",
   "metadata": {
    "tags": []
   },
   "outputs": [],
   "source": [
    "read_file_path = r\"C:\\Users\\parkj\\Desktop\\projects\\python_make_40\\CHAPTER04\\9. 영어 문서를 한글로 자동번역\\영어파일.txt\""
   ]
  },
  {
   "cell_type": "code",
   "execution_count": 5,
   "id": "75194a4c-ecf4-4120-b610-01b26b97bd42",
   "metadata": {
    "tags": []
   },
   "outputs": [
    {
     "name": "stdout",
     "output_type": "stream",
     "text": [
      "작은 연못에 큰 물고기\n",
      "좋은 약은 쓴 맛입니다\n",
      "고통이 없으면 얻는 것도 없다\n"
     ]
    }
   ],
   "source": [
    "with open(read_file_path, 'r') as f:\n",
    "    readLines = f.readlines()\n",
    "    \n",
    "for lines in readLines:\n",
    "    result1 = translator.translate(lines, dest=\"ko\")\n",
    "    print(result1.text)"
   ]
  }
 ],
 "metadata": {
  "kernelspec": {
   "display_name": "Python 3 (ipykernel)",
   "language": "python",
   "name": "python3"
  },
  "language_info": {
   "codemirror_mode": {
    "name": "ipython",
    "version": 3
   },
   "file_extension": ".py",
   "mimetype": "text/x-python",
   "name": "python",
   "nbconvert_exporter": "python",
   "pygments_lexer": "ipython3",
   "version": "3.11.3"
  }
 },
 "nbformat": 4,
 "nbformat_minor": 5
}
