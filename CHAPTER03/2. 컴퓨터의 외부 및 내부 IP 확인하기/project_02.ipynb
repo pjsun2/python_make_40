{
 "cells": [
  {
   "cell_type": "markdown",
   "id": "8605b2dc-54b3-4fbb-b384-9e2b4a661a5b",
   "metadata": {},
   "source": [
    "## 컴퓨터의 내부 IP 확인"
   ]
  },
  {
   "cell_type": "code",
   "execution_count": 5,
   "id": "1dddc702-fe65-43c6-b8ab-8602546a07dd",
   "metadata": {
    "tags": []
   },
   "outputs": [
    {
     "name": "stdout",
     "output_type": "stream",
     "text": [
      "192.168.35.72\n"
     ]
    }
   ],
   "source": [
    "import socket\n",
    "in_addr = socket.gethostbyname(socket.gethostname())\n",
    "print(in_addr)"
   ]
  },
  {
   "cell_type": "markdown",
   "id": "9b7b33c7-866a-4e88-ac44-cbf5aa0262c0",
   "metadata": {},
   "source": [
    "## 컴퓨터 외부 접속 후 내부 IP 확인 "
   ]
  },
  {
   "cell_type": "code",
   "execution_count": 6,
   "id": "2eddaf2d-6a0e-4229-b715-f1efad48bd82",
   "metadata": {},
   "outputs": [
    {
     "name": "stdout",
     "output_type": "stream",
     "text": [
      "192.168.35.72\n"
     ]
    }
   ],
   "source": [
    "import socket\n",
    "\n",
    "in_addr = socket.socket(socket.AF_INET, socket.SOCK_STREAM)\n",
    "in_addr.connect((\"www.google.co.kr\", 443))\n",
    "print(in_addr.getsockname()[0])"
   ]
  },
  {
   "cell_type": "markdown",
   "id": "01ed7100-94a1-4c1b-834f-a46ada7c1182",
   "metadata": {},
   "source": [
    "## 컴퓨터의 외부 IP 확인"
   ]
  },
  {
   "cell_type": "code",
   "execution_count": 7,
   "id": "bb3671ed-5ea4-4ff6-a7d9-a307f4e35501",
   "metadata": {
    "tags": []
   },
   "outputs": [
    {
     "name": "stdout",
     "output_type": "stream",
     "text": [
      "39.117.199.127\n"
     ]
    }
   ],
   "source": [
    "import requests\n",
    "import re\n",
    "\n",
    "req = requests.get(\"http://ipconfig.kr\")\n",
    "out_addr = re.search(r'IP Address : (\\d{1,3}\\.\\d{1,3}\\.\\d{1,3}\\.\\d{1,3})', req.text)[1]\n",
    "print(out_addr)"
   ]
  },
  {
   "cell_type": "markdown",
   "id": "711158bb-a76a-4245-97a1-ea753f65fa7c",
   "metadata": {},
   "source": [
    "## 내부, 외부 IP 한 번에 출력하는 코드 만들고 실행"
   ]
  },
  {
   "cell_type": "code",
   "execution_count": 10,
   "id": "1b382619-46b6-4223-95fb-8ef0ccca0f8f",
   "metadata": {
    "tags": []
   },
   "outputs": [
    {
     "name": "stdout",
     "output_type": "stream",
     "text": [
      "내부 IP:  192.168.35.72\n",
      "외부 IP:  39.117.199.127\n"
     ]
    }
   ],
   "source": [
    "import socket\n",
    "import requests\n",
    "import re\n",
    "\n",
    "in_addr = socket.socket(socket.AF_INET, socket.SOCK_STREAM)\n",
    "in_addr.connect((\"www.google.co.kr\", 443))\n",
    "print(\"내부 IP: \",in_addr.getsockname()[0])\n",
    "\n",
    "req = requests.get(\"http://ipconfig.kr\")\n",
    "out_addr = re.search(r'IP Address : (\\d{1,3}\\.\\d{1,3}\\.\\d{1,3}\\.\\d{1,3})', req.text)[1]\n",
    "print(\"외부 IP: \",out_addr)"
   ]
  },
  {
   "cell_type": "code",
   "execution_count": null,
   "id": "8ea5f7fc-5b12-406b-867a-45da9da9c350",
   "metadata": {},
   "outputs": [],
   "source": []
  }
 ],
 "metadata": {
  "kernelspec": {
   "display_name": "Python 3 (ipykernel)",
   "language": "python",
   "name": "python3"
  },
  "language_info": {
   "codemirror_mode": {
    "name": "ipython",
    "version": 3
   },
   "file_extension": ".py",
   "mimetype": "text/x-python",
   "name": "python",
   "nbconvert_exporter": "python",
   "pygments_lexer": "ipython3",
   "version": "3.11.3"
  }
 },
 "nbformat": 4,
 "nbformat_minor": 5
}
