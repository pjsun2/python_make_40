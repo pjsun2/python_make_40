{
 "cells": [
  {
   "cell_type": "code",
   "execution_count": 1,
   "id": "ae1c0300-c5e1-4ca7-a79f-a8b0e9cf4b69",
   "metadata": {
    "tags": []
   },
   "outputs": [],
   "source": [
    "import psutil"
   ]
  },
  {
   "cell_type": "code",
   "execution_count": 3,
   "id": "47ce146e-2628-4202-8d88-e31ccf53247d",
   "metadata": {
    "tags": []
   },
   "outputs": [
    {
     "name": "stdout",
     "output_type": "stream",
     "text": [
      "CPU사용량: 11.7%\n",
      "사용 가능한 메모리: 22.9GB\n",
      "보내기: 8.2MB 받기: 498.5MB\n",
      "CPU사용량: 3.7%\n",
      "사용 가능한 메모리: 22.9GB\n",
      "보내기: 0.0MB 받기: 0.0MB\n",
      "CPU사용량: 7.4%\n",
      "사용 가능한 메모리: 22.9GB\n",
      "보내기: 0.0MB 받기: 0.0MB\n",
      "CPU사용량: 2.5%\n",
      "사용 가능한 메모리: 22.9GB\n",
      "보내기: 0.0MB 받기: 0.0MB\n",
      "CPU사용량: 5.9%\n",
      "사용 가능한 메모리: 22.9GB\n",
      "보내기: 0.0MB 받기: 0.0MB\n",
      "CPU사용량: 6.6%\n",
      "사용 가능한 메모리: 22.9GB\n",
      "보내기: 0.0MB 받기: 0.0MB\n",
      "CPU사용량: 6.8%\n",
      "사용 가능한 메모리: 22.9GB\n",
      "보내기: 0.0MB 받기: 0.0MB\n",
      "CPU사용량: 8.0%\n",
      "사용 가능한 메모리: 22.9GB\n",
      "보내기: 0.0MB 받기: 0.0MB\n",
      "CPU사용량: 8.2%\n",
      "사용 가능한 메모리: 22.9GB\n",
      "보내기: 0.0MB 받기: 0.0MB\n",
      "CPU사용량: 3.1%\n",
      "사용 가능한 메모리: 22.9GB\n",
      "보내기: 0.0MB 받기: 0.0MB\n",
      "CPU사용량: 6.1%\n",
      "사용 가능한 메모리: 22.9GB\n",
      "보내기: 0.0MB 받기: 0.0MB\n",
      "CPU사용량: 7.0%\n",
      "사용 가능한 메모리: 22.9GB\n",
      "보내기: 0.0MB 받기: 0.0MB\n",
      "CPU사용량: 7.7%\n",
      "사용 가능한 메모리: 22.9GB\n",
      "보내기: 0.0MB 받기: 0.0MB\n"
     ]
    },
    {
     "ename": "KeyboardInterrupt",
     "evalue": "",
     "output_type": "error",
     "traceback": [
      "\u001b[1;31m---------------------------------------------------------------------------\u001b[0m",
      "\u001b[1;31mKeyboardInterrupt\u001b[0m                         Traceback (most recent call last)",
      "Cell \u001b[1;32mIn[3], line 8\u001b[0m\n\u001b[0;32m      5\u001b[0m prev_recv \u001b[38;5;241m=\u001b[39m \u001b[38;5;241m0\u001b[39m\n\u001b[0;32m      7\u001b[0m \u001b[38;5;28;01mwhile\u001b[39;00m \u001b[38;5;28;01mTrue\u001b[39;00m:\n\u001b[1;32m----> 8\u001b[0m     cpu_p \u001b[38;5;241m=\u001b[39m \u001b[43mpsutil\u001b[49m\u001b[38;5;241;43m.\u001b[39;49m\u001b[43mcpu_percent\u001b[49m\u001b[43m(\u001b[49m\u001b[43minterval\u001b[49m\u001b[38;5;241;43m=\u001b[39;49m\u001b[38;5;241;43m1\u001b[39;49m\u001b[43m)\u001b[49m\n\u001b[0;32m      9\u001b[0m     \u001b[38;5;28mprint\u001b[39m(\u001b[38;5;124mf\u001b[39m\u001b[38;5;124m'\u001b[39m\u001b[38;5;124mCPU사용량: \u001b[39m\u001b[38;5;132;01m{\u001b[39;00mcpu_p\u001b[38;5;132;01m}\u001b[39;00m\u001b[38;5;124m%\u001b[39m\u001b[38;5;124m'\u001b[39m)\n\u001b[0;32m     11\u001b[0m     memory \u001b[38;5;241m=\u001b[39m psutil\u001b[38;5;241m.\u001b[39mvirtual_memory()\n",
      "File \u001b[1;32m~\\AppData\\Roaming\\Python\\Python311\\site-packages\\psutil\\__init__.py:1749\u001b[0m, in \u001b[0;36mcpu_percent\u001b[1;34m(interval, percpu)\u001b[0m\n\u001b[0;32m   1747\u001b[0m \u001b[38;5;28;01mif\u001b[39;00m blocking:\n\u001b[0;32m   1748\u001b[0m     t1 \u001b[38;5;241m=\u001b[39m cpu_times()\n\u001b[1;32m-> 1749\u001b[0m     time\u001b[38;5;241m.\u001b[39msleep(interval)\n\u001b[0;32m   1750\u001b[0m \u001b[38;5;28;01melse\u001b[39;00m:\n\u001b[0;32m   1751\u001b[0m     t1 \u001b[38;5;241m=\u001b[39m _last_cpu_times\n",
      "\u001b[1;31mKeyboardInterrupt\u001b[0m: "
     ]
    }
   ],
   "source": [
    "curr_sent = 0\n",
    "curr_recv = 0\n",
    "\n",
    "prev_sent = 0\n",
    "prev_recv = 0\n",
    "\n",
    "while True:\n",
    "    cpu_p = psutil.cpu_percent(interval=1)\n",
    "    print(f'CPU사용량: {cpu_p}%')\n",
    "    \n",
    "    memory = psutil.virtual_memory()\n",
    "    memory_avail = round(memory.available/1024**3,1)\n",
    "    print( f'사용 가능한 메모리: {memory_avail}GB')\n",
    "    \n",
    "    net = psutil.net_io_counters()\n",
    "    curr_sent = net.bytes_sent/1024**2\n",
    "    curr_recv = net.bytes_recv/1024**2\n",
    "    \n",
    "    sent = round(curr_sent-prev_sent,1)\n",
    "    recv = round(curr_recv-prev_recv,1)\n",
    "    \n",
    "    print(f'보내기: {sent}MB 받기: {recv}MB')\n",
    "    \n",
    "    prev_sent = curr_sent\n",
    "    prev_recv = curr_recv"
   ]
  },
  {
   "cell_type": "code",
   "execution_count": null,
   "id": "6e548aaa-4fc5-4c96-a066-93b4cc6f39ac",
   "metadata": {},
   "outputs": [],
   "source": []
  }
 ],
 "metadata": {
  "kernelspec": {
   "display_name": "Python 3 (ipykernel)",
   "language": "python",
   "name": "python3"
  },
  "language_info": {
   "codemirror_mode": {
    "name": "ipython",
    "version": 3
   },
   "file_extension": ".py",
   "mimetype": "text/x-python",
   "name": "python",
   "nbconvert_exporter": "python",
   "pygments_lexer": "ipython3",
   "version": "3.11.3"
  }
 },
 "nbformat": 4,
 "nbformat_minor": 5
}
