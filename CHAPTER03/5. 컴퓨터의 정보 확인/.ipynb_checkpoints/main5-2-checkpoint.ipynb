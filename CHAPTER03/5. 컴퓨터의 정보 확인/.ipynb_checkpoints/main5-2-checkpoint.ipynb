{
 "cells": [
  {
   "cell_type": "code",
   "execution_count": 5,
   "id": "b8e30e87-70c5-46d2-a176-90a37d4b701c",
   "metadata": {
    "tags": []
   },
   "outputs": [
    {
     "name": "stdout",
     "output_type": "stream",
     "text": [
      "cpu 속도: 2.8GHZ\n",
      "\n",
      "코어: 4 개\n",
      "\n",
      "메모리: 32GB\n",
      "\n",
      "C:\\ NTFS 디스크크기: 214GB\n",
      "D:\\ NTFS 디스크크기: 244GB\n",
      "\n",
      "보내기: 1.8MB 받기: 6.9MB\n"
     ]
    }
   ],
   "source": [
    "import psutil\n",
    "\n",
    "cpu = psutil.cpu_freq()\n",
    "cpu_current_ghz = round(cpu.current / 1000, 2)\n",
    "print(f\"cpu 속도: {cpu_current_ghz}GHZ\")\n",
    "print()\n",
    "\n",
    "cpu_core = psutil.cpu_count(logical=False)\n",
    "print(f\"코어: {cpu_core} 개\")\n",
    "print()\n",
    "\n",
    "memory = psutil.virtual_memory()\n",
    "memory_total = round(memory.total / 1024**3)\n",
    "print(f\"메모리: {memory_total}GB\")\n",
    "print()\n",
    "\n",
    "disk= psutil.disk_partitions()\n",
    "for p in disk:\n",
    "    print(p.mountpoint, p.fstype, end=' ')\n",
    "    du = psutil.disk_usage(p.mountpoint)\n",
    "    disk_total = round(du.total / 1024**3)\n",
    "    print(f'디스크크기: {disk_total}GB')\n",
    "print()\n",
    "\n",
    "net = psutil.net_io_counters()\n",
    "sent = round(net.bytes_sent/1024**2, 1)\n",
    "recv = round(net.bytes_recv/1024**2, 1)\n",
    "print(f'보내기: {sent}MB 받기: {recv}MB')"
   ]
  },
  {
   "cell_type": "code",
   "execution_count": null,
   "id": "a7e465c4-cec3-45eb-97a8-bc19a82735c0",
   "metadata": {},
   "outputs": [],
   "source": []
  }
 ],
 "metadata": {
  "kernelspec": {
   "display_name": "Python 3 (ipykernel)",
   "language": "python",
   "name": "python3"
  },
  "language_info": {
   "codemirror_mode": {
    "name": "ipython",
    "version": 3
   },
   "file_extension": ".py",
   "mimetype": "text/x-python",
   "name": "python",
   "nbconvert_exporter": "python",
   "pygments_lexer": "ipython3",
   "version": "3.11.3"
  }
 },
 "nbformat": 4,
 "nbformat_minor": 5
}
