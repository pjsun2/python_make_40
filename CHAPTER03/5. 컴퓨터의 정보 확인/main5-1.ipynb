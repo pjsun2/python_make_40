{
 "cells": [
  {
   "cell_type": "code",
   "execution_count": 1,
   "id": "57b9007f-462d-44b6-b92f-73cfc073ca32",
   "metadata": {
    "tags": []
   },
   "outputs": [
    {
     "name": "stdout",
     "output_type": "stream",
     "text": [
      "Requirement already satisfied: psutil in c:\\users\\parkj\\appdata\\roaming\\python\\python311\\site-packages (5.9.5)\n",
      "Note: you may need to restart the kernel to use updated packages.\n"
     ]
    }
   ],
   "source": [
    "pip install psutil"
   ]
  },
  {
   "cell_type": "code",
   "execution_count": 2,
   "id": "d0725e18-faf9-4c24-90eb-db07be50fb04",
   "metadata": {
    "tags": []
   },
   "outputs": [],
   "source": [
    "import psutil"
   ]
  },
  {
   "cell_type": "code",
   "execution_count": 7,
   "id": "c1a217f4-99a5-40a9-a9d0-313da77ea7dc",
   "metadata": {
    "tags": []
   },
   "outputs": [
    {
     "name": "stdout",
     "output_type": "stream",
     "text": [
      "scpufreq(current=2803.0, min=0.0, max=2803.0)\n",
      "\n",
      "4\n",
      "\n",
      "svmem(total=34017132544, available=22568165376, percent=33.7, used=11448967168, free=22568165376)\n",
      "\n",
      "[sdiskpart(device='C:\\\\', mountpoint='C:\\\\', fstype='NTFS', opts='rw,fixed', maxfile=255, maxpath=260), sdiskpart(device='D:\\\\', mountpoint='D:\\\\', fstype='NTFS', opts='rw,fixed', maxfile=255, maxpath=260)]\n",
      "\n",
      "snetio(bytes_sent=1486800, bytes_recv=4800863, packets_sent=4268, packets_recv=6366, errin=0, errout=0, dropin=0, dropout=0)\n"
     ]
    }
   ],
   "source": [
    "cpu = psutil.cpu_freq()\n",
    "print(cpu)\n",
    "print()\n",
    "\n",
    "cpu_core = psutil.cpu_count(logical=False)\n",
    "print(cpu_core)\n",
    "print()\n",
    "\n",
    "memory = psutil.virtual_memory()\n",
    "print(memory)\n",
    "print()\n",
    "\n",
    "disk= psutil.disk_partitions()\n",
    "print(disk)\n",
    "print()\n",
    "\n",
    "net = psutil.net_io_counters()\n",
    "print(net)"
   ]
  },
  {
   "cell_type": "code",
   "execution_count": null,
   "id": "487684ba-0051-414e-a2e5-f33eef13ab5b",
   "metadata": {},
   "outputs": [],
   "source": []
  }
 ],
 "metadata": {
  "kernelspec": {
   "display_name": "Python 3 (ipykernel)",
   "language": "python",
   "name": "python3"
  },
  "language_info": {
   "codemirror_mode": {
    "name": "ipython",
    "version": 3
   },
   "file_extension": ".py",
   "mimetype": "text/x-python",
   "name": "python",
   "nbconvert_exporter": "python",
   "pygments_lexer": "ipython3",
   "version": "3.11.3"
  }
 },
 "nbformat": 4,
 "nbformat_minor": 5
}
