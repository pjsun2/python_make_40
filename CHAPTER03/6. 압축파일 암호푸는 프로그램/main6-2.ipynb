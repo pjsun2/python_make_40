{
 "cells": [
  {
   "cell_type": "code",
   "execution_count": 6,
   "id": "1b0aa7c3-088d-4c58-bc4b-174650ce446f",
   "metadata": {
    "tags": []
   },
   "outputs": [
    {
     "name": "stdout",
     "output_type": "stream",
     "text": [
      "C:\\Users\\parkj\\Desktop\\projects\\python_make_40\\CHAPTER03\\6. 압축파일 암호푸는 프로그램\n"
     ]
    }
   ],
   "source": [
    "import os\n",
    "\n",
    "currentpath = os.getcwd()\n",
    "print(currentpath)"
   ]
  },
  {
   "cell_type": "code",
   "execution_count": 7,
   "id": "88c3afdd-75a9-4004-9709-7ae8bc61b0ce",
   "metadata": {
    "tags": []
   },
   "outputs": [
    {
     "name": "stdout",
     "output_type": "stream",
     "text": [
      "0\n",
      "비밀번호는 0 입니다\n",
      "00\n",
      "비밀번호는 00 입니다\n",
      "000\n",
      "비밀번호는 000 입니다\n"
     ]
    }
   ],
   "source": [
    "import itertools\n",
    "import zipfile\n",
    "\n",
    "passwd_string = \"0123456780abcdefghijklmnopqrstuvwxyzABCDEFGHIJKLMNOPQRSTUVWXYZ\"\n",
    "\n",
    "zFile = zipfile.ZipFile(r'C:\\Users\\parkj\\Desktop\\projects\\python_make_40\\CHAPTER03\\6. 압축파일 암호푸는 프로그램\\암호1234.zip')\n",
    "\n",
    "for len in range(1, 4):\n",
    "    to_attempt = itertools.product(passwd_string, repeat = len)\n",
    "    for attempt in to_attempt:\n",
    "        passwd = ''.join(attempt)\n",
    "        print(passwd)\n",
    "        try:\n",
    "            zFile.extractall(pwd = passwd.encode())\n",
    "            print(f\"비밀번호는 {passwd} 입니다\")\n",
    "            break\n",
    "        except:\n",
    "            pass"
   ]
  },
  {
   "cell_type": "code",
   "execution_count": null,
   "id": "2d16780b-4663-4717-8343-d316dec82c0f",
   "metadata": {},
   "outputs": [],
   "source": []
  }
 ],
 "metadata": {
  "kernelspec": {
   "display_name": "Python 3 (ipykernel)",
   "language": "python",
   "name": "python3"
  },
  "language_info": {
   "codemirror_mode": {
    "name": "ipython",
    "version": 3
   },
   "file_extension": ".py",
   "mimetype": "text/x-python",
   "name": "python",
   "nbconvert_exporter": "python",
   "pygments_lexer": "ipython3",
   "version": "3.11.3"
  }
 },
 "nbformat": 4,
 "nbformat_minor": 5
}
