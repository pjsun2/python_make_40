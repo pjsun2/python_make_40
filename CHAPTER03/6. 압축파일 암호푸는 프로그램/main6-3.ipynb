{
 "cells": [
  {
   "cell_type": "code",
   "execution_count": 2,
   "id": "a09975c2-9926-4ecf-bd47-4686d3551a79",
   "metadata": {
    "tags": []
   },
   "outputs": [
    {
     "name": "stdout",
     "output_type": "stream",
     "text": [
      "0\n",
      "비밀번호는 0 입니다\n"
     ]
    }
   ],
   "source": [
    "import itertools\n",
    "import zipfile\n",
    "\n",
    "def un_zip(passwd_string, min_len, max_len, zFile):\n",
    "    for len in range(min_len, max_len+1):\n",
    "        to_attempt = itertools.product(passwd_string, repeat = len)\n",
    "        for attempt in to_attempt:\n",
    "            passwd = ''.join(attempt)\n",
    "            print(passwd)\n",
    "            try:\n",
    "                zFile.extractall(pwd = passwd.encode())\n",
    "                print(f\"비밀번호는 {passwd} 입니다\")\n",
    "                return 1\n",
    "            except:\n",
    "                pass\n",
    "            \n",
    "passwd_string = \"0123456780abcdefghijklmnopqrstuvwxyzABCDEFGHIJKLMNOPQRSTUVWXYZ\"\n",
    "\n",
    "zFile = zipfile.ZipFile(r'C:\\Users\\parkj\\Desktop\\projects\\python_make_40\\CHAPTER03\\6. 압축파일 암호푸는 프로그램\\암호1234.zip')\n",
    "\n",
    "min_len = 1\n",
    "max_len = 5\n",
    "\n",
    "unzip_result = un_zip(passwd_string, min_len, max_len, zFile)"
   ]
  },
  {
   "cell_type": "code",
   "execution_count": null,
   "id": "671d74c6-83f2-4f81-b34a-2e7fb1114c95",
   "metadata": {},
   "outputs": [],
   "source": []
  }
 ],
 "metadata": {
  "kernelspec": {
   "display_name": "Python 3 (ipykernel)",
   "language": "python",
   "name": "python3"
  },
  "language_info": {
   "codemirror_mode": {
    "name": "ipython",
    "version": 3
   },
   "file_extension": ".py",
   "mimetype": "text/x-python",
   "name": "python",
   "nbconvert_exporter": "python",
   "pygments_lexer": "ipython3",
   "version": "3.11.3"
  }
 },
 "nbformat": 4,
 "nbformat_minor": 5
}
