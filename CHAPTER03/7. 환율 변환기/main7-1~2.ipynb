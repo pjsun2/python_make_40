{
 "cells": [
  {
   "cell_type": "code",
   "execution_count": 1,
   "id": "b83a9363-1fa5-4d2d-87b1-bb80f1f043d4",
   "metadata": {},
   "outputs": [
    {
     "name": "stdout",
     "output_type": "stream",
     "text": [
      "Requirement already satisfied: currencyconverter in c:\\users\\parkj\\appdata\\roaming\\python\\python311\\site-packages (0.17.9)\n",
      "Note: you may need to restart the kernel to use updated packages.\n"
     ]
    }
   ],
   "source": [
    "pip install currencyconverter"
   ]
  },
  {
   "cell_type": "code",
   "execution_count": 2,
   "id": "d6bdbd15-8f2a-448c-a126-c0d22ba5d2f2",
   "metadata": {
    "tags": []
   },
   "outputs": [],
   "source": [
    "from currency_converter import CurrencyConverter"
   ]
  },
  {
   "cell_type": "code",
   "execution_count": 3,
   "id": "6965b42f-29f6-4901-a8c6-91bbed39037e",
   "metadata": {
    "tags": []
   },
   "outputs": [],
   "source": [
    "cc = CurrencyConverter()"
   ]
  },
  {
   "cell_type": "code",
   "execution_count": 4,
   "id": "ce809866-2c5f-4421-a1ab-ed8efee0a43b",
   "metadata": {
    "tags": []
   },
   "outputs": [
    {
     "name": "stdout",
     "output_type": "stream",
     "text": [
      "{'HUF', 'RON', 'MTL', 'INR', 'HRK', 'LVL', 'ILS', 'KRW', 'AUD', 'THB', 'RUB', 'DKK', 'SKK', 'ZAR', 'CHF', 'NZD', 'PHP', 'ROL', 'NOK', 'GBP', 'ISK', 'TRY', 'SEK', 'BGN', 'BRL', 'TRL', 'MXN', 'CAD', 'MYR', 'LTL', 'EUR', 'IDR', 'SGD', 'SIT', 'CYP', 'CZK', 'PLN', 'JPY', 'HKD', 'EEK', 'USD', 'CNY'}\n"
     ]
    }
   ],
   "source": [
    "print(cc.currencies)"
   ]
  },
  {
   "cell_type": "code",
   "execution_count": 5,
   "id": "5e2cd7da-8f4a-46b5-9412-9b27646c00d5",
   "metadata": {
    "tags": []
   },
   "outputs": [
    {
     "name": "stdout",
     "output_type": "stream",
     "text": [
      "1305.7061732918114\n"
     ]
    }
   ],
   "source": [
    "print(cc.convert(1,'USD','KRW'))"
   ]
  },
  {
   "cell_type": "code",
   "execution_count": 7,
   "id": "f204b32f-9d20-4a1c-b31b-62cb5165ca39",
   "metadata": {
    "tags": []
   },
   "outputs": [
    {
     "name": "stdout",
     "output_type": "stream",
     "text": [
      "0.7658690909601072\n"
     ]
    }
   ],
   "source": [
    "print(cc.convert(1000,'KRW','USD'))"
   ]
  },
  {
   "cell_type": "code",
   "execution_count": null,
   "id": "744e943d-225b-4f5d-8d6d-e4d8ec3746bb",
   "metadata": {},
   "outputs": [],
   "source": []
  }
 ],
 "metadata": {
  "kernelspec": {
   "display_name": "Python 3 (ipykernel)",
   "language": "python",
   "name": "python3"
  },
  "language_info": {
   "codemirror_mode": {
    "name": "ipython",
    "version": 3
   },
   "file_extension": ".py",
   "mimetype": "text/x-python",
   "name": "python",
   "nbconvert_exporter": "python",
   "pygments_lexer": "ipython3",
   "version": "3.11.3"
  }
 },
 "nbformat": 4,
 "nbformat_minor": 5
}
