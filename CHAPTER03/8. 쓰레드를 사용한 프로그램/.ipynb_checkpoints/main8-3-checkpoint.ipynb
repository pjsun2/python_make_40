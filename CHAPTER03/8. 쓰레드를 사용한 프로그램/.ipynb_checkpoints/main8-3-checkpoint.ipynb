{
 "cells": [
  {
   "cell_type": "code",
   "execution_count": 1,
   "id": "5cdfa76a-2705-4c0b-9aed-4312e071e23a",
   "metadata": {
    "tags": []
   },
   "outputs": [
    {
     "name": "stdout",
     "output_type": "stream",
     "text": [
      "1번 쓰레드 : 0\n",
      "1번 쓰레드 : 1\n",
      "1번 쓰레드 : 2\n",
      "1번 쓰레드 : 3\n",
      "1번 쓰레드 : 4\n",
      "1번 쓰레드 : 5\n",
      "1번 쓰레드 : 6\n",
      "1번 쓰레드 : 7\n",
      "1번 쓰레드 : 8\n",
      "1번 쓰레드 : 9\n",
      "2번 쓰레드 : 0\n",
      "2번 쓰레드 : 1\n",
      "2번 쓰레드 : 2\n",
      "2번 쓰레드 : 3\n",
      "2번 쓰레드 : 4\n",
      "2번 쓰레드 : 5\n",
      "2번 쓰레드 : 6\n",
      "2번 쓰레드 : 7\n",
      "2번 쓰레드 : 8\n",
      "2번 쓰레드 : 9\n",
      "Main Thread\n"
     ]
    }
   ],
   "source": [
    "import threading\n",
    "\n",
    "def sum(name, value): # name과 value를 입력받아 value의 회수만큼 반복합니다.\n",
    "    for i in range(0, value):\n",
    "        print(f\"{name} : {i}\")\n",
    "        \n",
    "t1 = threading.Thread(target=sum, args=('1번 쓰레드', 10))\n",
    "#t1 쓰레드를 생성합니다. 입력값의 name은 '1번 쓰레드', value는 10입니다.\n",
    "\n",
    "t2 = threading.Thread(target=sum, args=('2번 쓰레드', 10))\n",
    "#t2 쓰레드를 생성합니다. 입력값의 name은 '2번 쓰레드', value는 10입니다.\n",
    "\n",
    "t1.start()\n",
    "t2.start()\n",
    "\n",
    "print(\"Main Thread\")"
   ]
  },
  {
   "cell_type": "code",
   "execution_count": null,
   "id": "b32c7ae8-3d48-49c8-9298-a0edb04dc1db",
   "metadata": {},
   "outputs": [],
   "source": []
  }
 ],
 "metadata": {
  "kernelspec": {
   "display_name": "Python 3 (ipykernel)",
   "language": "python",
   "name": "python3"
  },
  "language_info": {
   "codemirror_mode": {
    "name": "ipython",
    "version": 3
   },
   "file_extension": ".py",
   "mimetype": "text/x-python",
   "name": "python",
   "nbconvert_exporter": "python",
   "pygments_lexer": "ipython3",
   "version": "3.11.3"
  }
 },
 "nbformat": 4,
 "nbformat_minor": 5
}
