{
 "cells": [
  {
   "cell_type": "code",
   "execution_count": 1,
   "id": "13fcb61e-866b-4300-83cb-0c8befa8cae0",
   "metadata": {},
   "outputs": [
    {
     "name": "stdout",
     "output_type": "stream",
     "text": [
      "Requirement already satisfied: qrcode in c:\\users\\parkj\\appdata\\roaming\\python\\python311\\site-packages (7.4.2)\n",
      "Requirement already satisfied: typing-extensions in c:\\programdata\\anaconda3\\lib\\site-packages (from qrcode) (4.6.3)\n",
      "Requirement already satisfied: pypng in c:\\users\\parkj\\appdata\\roaming\\python\\python311\\site-packages (from qrcode) (0.20220715.0)\n",
      "Requirement already satisfied: colorama in c:\\programdata\\anaconda3\\lib\\site-packages (from qrcode) (0.4.6)\n",
      "Note: you may need to restart the kernel to use updated packages.\n"
     ]
    }
   ],
   "source": [
    "pip install qrcode"
   ]
  },
  {
   "cell_type": "code",
   "execution_count": 2,
   "id": "1d6439c4-6dcd-46fa-afb4-afa8e6ce4f0e",
   "metadata": {
    "tags": []
   },
   "outputs": [],
   "source": [
    "import qrcode"
   ]
  },
  {
   "cell_type": "code",
   "execution_count": 4,
   "id": "ca5ab042-c143-45b8-877f-463af9174c8e",
   "metadata": {
    "tags": []
   },
   "outputs": [],
   "source": [
    "qr_data = 'www.naver.com'\n",
    "qr_img = qrcode.make(qr_data)\n",
    "\n",
    "save_path = '4. QR코드 생성기\\\\' + qr_data + '.png'\n",
    "qr_img.save(save_path)"
   ]
  },
  {
   "cell_type": "code",
   "execution_count": 5,
   "id": "82f69939-aae6-4051-9382-31c1c96d28ca",
   "metadata": {
    "tags": []
   },
   "outputs": [
    {
     "name": "stdout",
     "output_type": "stream",
     "text": [
      "www.naver.com\n",
      "www.google.com\n",
      "www.daum.net\n",
      "www.daduino.co.kr\n",
      "www.nate.com\n"
     ]
    }
   ],
   "source": [
    "import qrcode\n",
    "\n",
    "file_path = r'4. QR코드 생성기\\qr코드모음.txt'\n",
    "with open(file_path, 'rt',encoding='UTF8') as f:\n",
    "    read_lines = f.readlines()\n",
    "    \n",
    "    for line in read_lines:\n",
    "        line = line.strip()\n",
    "        print(line)"
   ]
  },
  {
   "cell_type": "code",
   "execution_count": null,
   "id": "39641b35-0b3a-48ec-b776-51485187b385",
   "metadata": {},
   "outputs": [],
   "source": [
    "import qrcode\n",
    "\n",
    "file_path = r'4. QR코드 생성기\\qr코드모음.txt'\n",
    "with open(file_path, 'rt',encoding='UTF8') as f:\n",
    "    read_lines = f.readlines()\n",
    "    \n",
    "    for line in read_lines:\n",
    "        line = line.strip()\n",
    "        print(line)"
   ]
  }
 ],
 "metadata": {
  "kernelspec": {
   "display_name": "Python 3 (ipykernel)",
   "language": "python",
   "name": "python3"
  },
  "language_info": {
   "codemirror_mode": {
    "name": "ipython",
    "version": 3
   },
   "file_extension": ".py",
   "mimetype": "text/x-python",
   "name": "python",
   "nbconvert_exporter": "python",
   "pygments_lexer": "ipython3",
   "version": "3.11.3"
  }
 },
 "nbformat": 4,
 "nbformat_minor": 5
}
